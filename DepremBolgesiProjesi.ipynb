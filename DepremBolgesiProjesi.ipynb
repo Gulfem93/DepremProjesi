{
 "cells": [
  {
   "cell_type": "markdown",
   "id": "6bbfb74c",
   "metadata": {},
   "source": [
    "   # Deprem Haritası"
   ]
  },
  {
   "cell_type": "markdown",
   "id": "1056c42b",
   "metadata": {},
   "source": [
    "![image](depremFayHattı.jpg)"
   ]
  },
  {
   "cell_type": "code",
   "execution_count": 1,
   "id": "6bdabc16",
   "metadata": {},
   "outputs": [],
   "source": [
    "import pandas as pd"
   ]
  },
  {
   "cell_type": "code",
   "execution_count": 2,
   "id": "7458de78",
   "metadata": {},
   "outputs": [],
   "source": [
    "veriler = pd.read_csv(\"textVeriler1.txt\", encoding ='latin1', sep = '\\t', names = ['No', 'DepremKodu', 'OlusTarihi', 'OlusZamani', 'Enlem', 'Boylam', 'Derinlik', 'xM', 'MD', 'ML', 'Mw', 'Ms', 'Mb', 'Tip', 'Yer'])"
   ]
  },
  {
   "cell_type": "code",
   "execution_count": 3,
   "id": "d1dd1862",
   "metadata": {},
   "outputs": [],
   "source": [
    "veriler = veriler[1:]"
   ]
  },
  {
   "cell_type": "markdown",
   "id": "8e89e58c",
   "metadata": {},
   "source": [
    "- No -> Sıra numarası\n",
    "- Deprem Kodu -> Oluş zamanı tabanlı deprem kodu (YYYYAAGGSSDDss).\n",
    "- Oluş tarihi -> YYYY.AA.GG (Yıl.Ay.Gün) formatında.\n",
    "- Olus zamanı -> SS:DD:ss.ms (Saat:Dakika:saniye.milisaniye) formatında. (UTC)\n",
    "- Enlem -> Derece\n",
    "- Boylam -> Derece\n",
    "- Der(km) -> Derinlik (Kilometre)\n",
    "- xM -> Verilen magnitüd (MD, ML, Mw, Ms, Mb) değerleri içerisindeki en büyük değer.\n",
    "- MD ML Mw Ms Mb -> Olası büyüklükler (MD: Süreye bağlı, ML: Local, Mw: Moment, Ms: Yüzey dalgası, Mb: Body-wave). Hesaplanmamış büyüklükler 0.0 (sıfır) olarak verilmiştir.\n",
    "- Tip -> Ke: Deprem, Sm: Olası patlatma.\n",
    "- Yer -> En yakın yerleşim birimi."
   ]
  },
  {
   "cell_type": "code",
   "execution_count": 4,
   "id": "95e0dd33",
   "metadata": {},
   "outputs": [
    {
     "data": {
      "text/html": [
       "<div>\n",
       "<style scoped>\n",
       "    .dataframe tbody tr th:only-of-type {\n",
       "        vertical-align: middle;\n",
       "    }\n",
       "\n",
       "    .dataframe tbody tr th {\n",
       "        vertical-align: top;\n",
       "    }\n",
       "\n",
       "    .dataframe thead th {\n",
       "        text-align: right;\n",
       "    }\n",
       "</style>\n",
       "<table border=\"1\" class=\"dataframe\">\n",
       "  <thead>\n",
       "    <tr style=\"text-align: right;\">\n",
       "      <th></th>\n",
       "      <th>No</th>\n",
       "      <th>DepremKodu</th>\n",
       "      <th>OlusTarihi</th>\n",
       "      <th>OlusZamani</th>\n",
       "      <th>Enlem</th>\n",
       "      <th>Boylam</th>\n",
       "      <th>Derinlik</th>\n",
       "      <th>xM</th>\n",
       "      <th>MD</th>\n",
       "      <th>ML</th>\n",
       "      <th>Mw</th>\n",
       "      <th>Ms</th>\n",
       "      <th>Mb</th>\n",
       "      <th>Tip</th>\n",
       "      <th>Yer</th>\n",
       "    </tr>\n",
       "  </thead>\n",
       "  <tbody>\n",
       "    <tr>\n",
       "      <th>1</th>\n",
       "      <td>000001</td>\n",
       "      <td>20230831083800</td>\n",
       "      <td>2023.08.31</td>\n",
       "      <td>08:38:00.25</td>\n",
       "      <td>36.0547</td>\n",
       "      <td>27.1385</td>\n",
       "      <td>007.7</td>\n",
       "      <td>3.7</td>\n",
       "      <td>0.0</td>\n",
       "      <td>3.6</td>\n",
       "      <td>3.7</td>\n",
       "      <td>0.0</td>\n",
       "      <td>0.0</td>\n",
       "      <td>Ke</td>\n",
       "      <td>AKDENIZ</td>\n",
       "    </tr>\n",
       "    <tr>\n",
       "      <th>2</th>\n",
       "      <td>000002</td>\n",
       "      <td>20230829060305</td>\n",
       "      <td>2023.08.29</td>\n",
       "      <td>06:03:05.40</td>\n",
       "      <td>38.0080</td>\n",
       "      <td>38.3387</td>\n",
       "      <td>008.0</td>\n",
       "      <td>3.9</td>\n",
       "      <td>0.0</td>\n",
       "      <td>3.7</td>\n",
       "      <td>3.9</td>\n",
       "      <td>0.0</td>\n",
       "      <td>0.0</td>\n",
       "      <td>Ke</td>\n",
       "      <td>AKSU-CELIKHAN (ADIYAMAN) [North East  2.9 km]</td>\n",
       "    </tr>\n",
       "    <tr>\n",
       "      <th>3</th>\n",
       "      <td>000003</td>\n",
       "      <td>20230829045814</td>\n",
       "      <td>2023.08.29</td>\n",
       "      <td>04:58:14.00</td>\n",
       "      <td>38.9038</td>\n",
       "      <td>32.9623</td>\n",
       "      <td>002.4</td>\n",
       "      <td>5.1</td>\n",
       "      <td>0.0</td>\n",
       "      <td>5.1</td>\n",
       "      <td>4.7</td>\n",
       "      <td>0.0</td>\n",
       "      <td>0.0</td>\n",
       "      <td>Ke</td>\n",
       "      <td>TAVSANCALI-KULU (KONYA) [South West  5.3 km]</td>\n",
       "    </tr>\n",
       "    <tr>\n",
       "      <th>4</th>\n",
       "      <td>000004</td>\n",
       "      <td>20230827030942</td>\n",
       "      <td>2023.08.27</td>\n",
       "      <td>03:09:42.97</td>\n",
       "      <td>36.3487</td>\n",
       "      <td>27.8080</td>\n",
       "      <td>065.3</td>\n",
       "      <td>4.4</td>\n",
       "      <td>0.0</td>\n",
       "      <td>4.4</td>\n",
       "      <td>0.0</td>\n",
       "      <td>0.0</td>\n",
       "      <td>0.0</td>\n",
       "      <td>Ke</td>\n",
       "      <td>AKDENIZ</td>\n",
       "    </tr>\n",
       "    <tr>\n",
       "      <th>5</th>\n",
       "      <td>000005</td>\n",
       "      <td>20230826091713</td>\n",
       "      <td>2023.08.26</td>\n",
       "      <td>09:17:13.88</td>\n",
       "      <td>35.8478</td>\n",
       "      <td>35.9930</td>\n",
       "      <td>008.1</td>\n",
       "      <td>3.6</td>\n",
       "      <td>0.0</td>\n",
       "      <td>3.5</td>\n",
       "      <td>3.6</td>\n",
       "      <td>0.0</td>\n",
       "      <td>0.0</td>\n",
       "      <td>Ke</td>\n",
       "      <td>YAYLADAGI (HATAY) [South West  8.8 km]</td>\n",
       "    </tr>\n",
       "  </tbody>\n",
       "</table>\n",
       "</div>"
      ],
      "text/plain": [
       "       No      DepremKodu  OlusTarihi   OlusZamani    Enlem   Boylam Derinlik  \\\n",
       "1  000001  20230831083800  2023.08.31  08:38:00.25  36.0547  27.1385    007.7   \n",
       "2  000002  20230829060305  2023.08.29  06:03:05.40  38.0080  38.3387    008.0   \n",
       "3  000003  20230829045814  2023.08.29  04:58:14.00  38.9038  32.9623    002.4   \n",
       "4  000004  20230827030942  2023.08.27  03:09:42.97  36.3487  27.8080    065.3   \n",
       "5  000005  20230826091713  2023.08.26  09:17:13.88  35.8478  35.9930    008.1   \n",
       "\n",
       "    xM   MD   ML   Mw   Ms   Mb Tip  \\\n",
       "1  3.7  0.0  3.6  3.7  0.0  0.0  Ke   \n",
       "2  3.9  0.0  3.7  3.9  0.0  0.0  Ke   \n",
       "3  5.1  0.0  5.1  4.7  0.0  0.0  Ke   \n",
       "4  4.4  0.0  4.4  0.0  0.0  0.0  Ke   \n",
       "5  3.6  0.0  3.5  3.6  0.0  0.0  Ke   \n",
       "\n",
       "                                             Yer  \n",
       "1                                        AKDENIZ  \n",
       "2  AKSU-CELIKHAN (ADIYAMAN) [North East  2.9 km]  \n",
       "3   TAVSANCALI-KULU (KONYA) [South West  5.3 km]  \n",
       "4                                        AKDENIZ  \n",
       "5         YAYLADAGI (HATAY) [South West  8.8 km]  "
      ]
     },
     "execution_count": 4,
     "metadata": {},
     "output_type": "execute_result"
    }
   ],
   "source": [
    "veriler.head()"
   ]
  },
  {
   "cell_type": "code",
   "execution_count": 5,
   "id": "b7f805c0",
   "metadata": {},
   "outputs": [],
   "source": [
    "import csv\n",
    "\n",
    "with open('veriler.csv', 'w', encoding=\"utf-8\") as file:\n",
    "    writer = csv.writer(file)\n",
    "    field = ['No', 'DepremKodu', 'OlusTarihi', 'OlusZamani', 'Enlem', 'Boylam', 'Derinlik', 'xM', 'MD', 'ML', 'Mw', 'Ms', 'Mb', 'Tip', 'Yer']\n",
    "    \n",
    "    writer.writerow(field)\n",
    "    for i in range(len(veriler)):\n",
    "        writer.writerow(veriler.iloc[i])"
   ]
  },
  {
   "cell_type": "code",
   "execution_count": 6,
   "id": "66228647",
   "metadata": {},
   "outputs": [],
   "source": [
    "veriler = pd.read_csv(\"veriler.csv\", encoding='latin-1')"
   ]
  },
  {
   "cell_type": "code",
   "execution_count": 7,
   "id": "d3b90c0b",
   "metadata": {},
   "outputs": [
    {
     "data": {
      "text/html": [
       "<div>\n",
       "<style scoped>\n",
       "    .dataframe tbody tr th:only-of-type {\n",
       "        vertical-align: middle;\n",
       "    }\n",
       "\n",
       "    .dataframe tbody tr th {\n",
       "        vertical-align: top;\n",
       "    }\n",
       "\n",
       "    .dataframe thead th {\n",
       "        text-align: right;\n",
       "    }\n",
       "</style>\n",
       "<table border=\"1\" class=\"dataframe\">\n",
       "  <thead>\n",
       "    <tr style=\"text-align: right;\">\n",
       "      <th></th>\n",
       "      <th>No</th>\n",
       "      <th>DepremKodu</th>\n",
       "      <th>OlusTarihi</th>\n",
       "      <th>OlusZamani</th>\n",
       "      <th>Enlem</th>\n",
       "      <th>Boylam</th>\n",
       "      <th>Derinlik</th>\n",
       "      <th>xM</th>\n",
       "      <th>MD</th>\n",
       "      <th>ML</th>\n",
       "      <th>Mw</th>\n",
       "      <th>Ms</th>\n",
       "      <th>Mb</th>\n",
       "      <th>Tip</th>\n",
       "      <th>Yer</th>\n",
       "    </tr>\n",
       "  </thead>\n",
       "  <tbody>\n",
       "    <tr>\n",
       "      <th>0</th>\n",
       "      <td>1</td>\n",
       "      <td>20230831083800</td>\n",
       "      <td>2023.08.31</td>\n",
       "      <td>08:38:00.25</td>\n",
       "      <td>36.0547</td>\n",
       "      <td>27.1385</td>\n",
       "      <td>7.7</td>\n",
       "      <td>3.7</td>\n",
       "      <td>0.0</td>\n",
       "      <td>3.6</td>\n",
       "      <td>3.7</td>\n",
       "      <td>0.0</td>\n",
       "      <td>0.0</td>\n",
       "      <td>Ke</td>\n",
       "      <td>AKDENIZ</td>\n",
       "    </tr>\n",
       "    <tr>\n",
       "      <th>1</th>\n",
       "      <td>2</td>\n",
       "      <td>20230829060305</td>\n",
       "      <td>2023.08.29</td>\n",
       "      <td>06:03:05.40</td>\n",
       "      <td>38.0080</td>\n",
       "      <td>38.3387</td>\n",
       "      <td>8.0</td>\n",
       "      <td>3.9</td>\n",
       "      <td>0.0</td>\n",
       "      <td>3.7</td>\n",
       "      <td>3.9</td>\n",
       "      <td>0.0</td>\n",
       "      <td>0.0</td>\n",
       "      <td>Ke</td>\n",
       "      <td>AKSU-CELIKHAN (ADIYAMAN) [North East  2.9 km]</td>\n",
       "    </tr>\n",
       "    <tr>\n",
       "      <th>2</th>\n",
       "      <td>3</td>\n",
       "      <td>20230829045814</td>\n",
       "      <td>2023.08.29</td>\n",
       "      <td>04:58:14.00</td>\n",
       "      <td>38.9038</td>\n",
       "      <td>32.9623</td>\n",
       "      <td>2.4</td>\n",
       "      <td>5.1</td>\n",
       "      <td>0.0</td>\n",
       "      <td>5.1</td>\n",
       "      <td>4.7</td>\n",
       "      <td>0.0</td>\n",
       "      <td>0.0</td>\n",
       "      <td>Ke</td>\n",
       "      <td>TAVSANCALI-KULU (KONYA) [South West  5.3 km]</td>\n",
       "    </tr>\n",
       "    <tr>\n",
       "      <th>3</th>\n",
       "      <td>4</td>\n",
       "      <td>20230827030942</td>\n",
       "      <td>2023.08.27</td>\n",
       "      <td>03:09:42.97</td>\n",
       "      <td>36.3487</td>\n",
       "      <td>27.8080</td>\n",
       "      <td>65.3</td>\n",
       "      <td>4.4</td>\n",
       "      <td>0.0</td>\n",
       "      <td>4.4</td>\n",
       "      <td>0.0</td>\n",
       "      <td>0.0</td>\n",
       "      <td>0.0</td>\n",
       "      <td>Ke</td>\n",
       "      <td>AKDENIZ</td>\n",
       "    </tr>\n",
       "    <tr>\n",
       "      <th>4</th>\n",
       "      <td>5</td>\n",
       "      <td>20230826091713</td>\n",
       "      <td>2023.08.26</td>\n",
       "      <td>09:17:13.88</td>\n",
       "      <td>35.8478</td>\n",
       "      <td>35.9930</td>\n",
       "      <td>8.1</td>\n",
       "      <td>3.6</td>\n",
       "      <td>0.0</td>\n",
       "      <td>3.5</td>\n",
       "      <td>3.6</td>\n",
       "      <td>0.0</td>\n",
       "      <td>0.0</td>\n",
       "      <td>Ke</td>\n",
       "      <td>YAYLADAGI (HATAY) [South West  8.8 km]</td>\n",
       "    </tr>\n",
       "  </tbody>\n",
       "</table>\n",
       "</div>"
      ],
      "text/plain": [
       "   No      DepremKodu  OlusTarihi   OlusZamani    Enlem   Boylam  Derinlik  \\\n",
       "0   1  20230831083800  2023.08.31  08:38:00.25  36.0547  27.1385       7.7   \n",
       "1   2  20230829060305  2023.08.29  06:03:05.40  38.0080  38.3387       8.0   \n",
       "2   3  20230829045814  2023.08.29  04:58:14.00  38.9038  32.9623       2.4   \n",
       "3   4  20230827030942  2023.08.27  03:09:42.97  36.3487  27.8080      65.3   \n",
       "4   5  20230826091713  2023.08.26  09:17:13.88  35.8478  35.9930       8.1   \n",
       "\n",
       "    xM   MD   ML   Mw   Ms   Mb Tip  \\\n",
       "0  3.7  0.0  3.6  3.7  0.0  0.0  Ke   \n",
       "1  3.9  0.0  3.7  3.9  0.0  0.0  Ke   \n",
       "2  5.1  0.0  5.1  4.7  0.0  0.0  Ke   \n",
       "3  4.4  0.0  4.4  0.0  0.0  0.0  Ke   \n",
       "4  3.6  0.0  3.5  3.6  0.0  0.0  Ke   \n",
       "\n",
       "                                             Yer  \n",
       "0                                        AKDENIZ  \n",
       "1  AKSU-CELIKHAN (ADIYAMAN) [North East  2.9 km]  \n",
       "2   TAVSANCALI-KULU (KONYA) [South West  5.3 km]  \n",
       "3                                        AKDENIZ  \n",
       "4         YAYLADAGI (HATAY) [South West  8.8 km]  "
      ]
     },
     "execution_count": 7,
     "metadata": {},
     "output_type": "execute_result"
    }
   ],
   "source": [
    "veriler.head()"
   ]
  },
  {
   "cell_type": "code",
   "execution_count": 8,
   "id": "6aa0bab4",
   "metadata": {},
   "outputs": [
    {
     "name": "stderr",
     "output_type": "stream",
     "text": [
      "C:\\Users\\LENOVO\\AppData\\Local\\Temp/ipykernel_12212/3328957062.py:2: SettingWithCopyWarning: \n",
      "A value is trying to be set on a copy of a slice from a DataFrame\n",
      "\n",
      "See the caveats in the documentation: https://pandas.pydata.org/pandas-docs/stable/user_guide/indexing.html#returning-a-view-versus-a-copy\n",
      "  veriler[\"Yer\"][i] = veriler[\"Yer\"][i].split(\"[\")[0]\n"
     ]
    }
   ],
   "source": [
    "for i in range(1, len(veriler[\"Yer\"])): \n",
    "    veriler[\"Yer\"][i] = veriler[\"Yer\"][i].split(\"[\")[0]"
   ]
  },
  {
   "cell_type": "code",
   "execution_count": 9,
   "id": "6c891417",
   "metadata": {},
   "outputs": [],
   "source": [
    "import seaborn as sns"
   ]
  },
  {
   "cell_type": "code",
   "execution_count": 10,
   "id": "222dc477",
   "metadata": {},
   "outputs": [
    {
     "data": {
      "text/plain": [
       "AKDENIZ                          1594\n",
       "EGE DENIZI                        270\n",
       "ONIKI ADALAR (AKDENIZ)            192\n",
       "GOKOVA KORFEZI (AKDENIZ)          178\n",
       "KUSADASI KORFEZI (EGE DENIZI)     142\n",
       "                                 ... \n",
       "CITAK-GUROYMAK (BITLIS)             1\n",
       "GUZELSU-AHLAT (BITLIS)              1\n",
       "ALIC-ILGAZ (CANKIRI)                1\n",
       "SASAL-MENDERES (IZMIR)              1\n",
       "DINLENCE-ERCIS (VAN)                1\n",
       "Name: Yer, Length: 3490, dtype: int64"
      ]
     },
     "execution_count": 10,
     "metadata": {},
     "output_type": "execute_result"
    }
   ],
   "source": [
    "veriler[\"Yer\"].value_counts()"
   ]
  },
  {
   "cell_type": "code",
   "execution_count": 11,
   "id": "90e32785",
   "metadata": {},
   "outputs": [
    {
     "data": {
      "text/plain": [
       "<AxesSubplot:xlabel='Yer'>"
      ]
     },
     "execution_count": 11,
     "metadata": {},
     "output_type": "execute_result"
    },
    {
     "name": "stderr",
     "output_type": "stream",
     "text": [
      "c:\\users\\lenovo\\appdata\\local\\programs\\python\\python39\\lib\\site-packages\\matplotlib\\backends\\backend_agg.py:240: RuntimeWarning: Glyph 156 missing from current font.\n",
      "  font.set_text(s, 0.0, flags=flags)\n",
      "c:\\users\\lenovo\\appdata\\local\\programs\\python\\python39\\lib\\site-packages\\matplotlib\\backends\\backend_agg.py:203: RuntimeWarning: Glyph 156 missing from current font.\n",
      "  font.set_text(s, 0, flags=flags)\n"
     ]
    },
    {
     "data": {
      "image/png": "[encoded data removed]",
      "text/plain": [
       "<Figure size 432x288 with 1 Axes>"
      ]
     },
     "metadata": {
      "needs_background": "light"
     },
     "output_type": "display_data"
    }
   ],
   "source": [
    "veriler.groupby([\"Yer\"]).size().plot()"
   ]
  },
  {
   "cell_type": "code",
   "execution_count": 12,
   "id": "9f8874c4",
   "metadata": {},
   "outputs": [],
   "source": [
    "mlVeri = []\n",
    "yerVeri = []\n",
    "enlemVeri = []\n",
    "boylamVeri = [] "
   ]
  },
  {
   "cell_type": "code",
   "execution_count": 13,
   "id": "89e3804c",
   "metadata": {},
   "outputs": [],
   "source": [
    "for i in range(1, len(veriler)):\n",
    "    if float(veriler[\"ML\"][i]) > 4.5 and veriler[\"Tip\"][i] == \"Ke\":\n",
    "        mlVeri.append(veriler[\"ML\"][i])\n",
    "        yerVeri.append(veriler[\"Yer\"][i])\n",
    "        enlemVeri.append(veriler[\"Enlem\"][i])\n",
    "        boylamVeri.append(veriler[\"Boylam\"][i])"
   ]
  },
  {
   "cell_type": "code",
   "execution_count": 14,
   "id": "b66c3bab",
   "metadata": {},
   "outputs": [],
   "source": [
    "MLVeri = pd.DataFrame(mlVeri, columns = [\"ML\"])\n",
    "YerVeri = pd.DataFrame(yerVeri, columns = [\"Yer\"])\n",
    "enlemVeri = pd.DataFrame(enlemVeri, columns = [\"Enlem\"])\n",
    "boylamVeri = pd.DataFrame(boylamVeri, columns = [\"Boylam\"])\n",
    "\n",
    "mlyerVeri = pd.concat([MLVeri, YerVeri], axis = 1) \n",
    "mlyerVeri = pd.concat([mlyerVeri, enlemVeri], axis = 1)\n",
    "mlyerVeri = pd.concat([mlyerVeri, boylamVeri], axis = 1)"
   ]
  },
  {
   "cell_type": "code",
   "execution_count": 15,
   "id": "423a6d23",
   "metadata": {},
   "outputs": [
    {
     "data": {
      "text/html": [
       "<div>\n",
       "<style scoped>\n",
       "    .dataframe tbody tr th:only-of-type {\n",
       "        vertical-align: middle;\n",
       "    }\n",
       "\n",
       "    .dataframe tbody tr th {\n",
       "        vertical-align: top;\n",
       "    }\n",
       "\n",
       "    .dataframe thead th {\n",
       "        text-align: right;\n",
       "    }\n",
       "</style>\n",
       "<table border=\"1\" class=\"dataframe\">\n",
       "  <thead>\n",
       "    <tr style=\"text-align: right;\">\n",
       "      <th></th>\n",
       "      <th>ML</th>\n",
       "      <th>Yer</th>\n",
       "      <th>Enlem</th>\n",
       "      <th>Boylam</th>\n",
       "    </tr>\n",
       "  </thead>\n",
       "  <tbody>\n",
       "    <tr>\n",
       "      <th>0</th>\n",
       "      <td>5.1</td>\n",
       "      <td>TAVSANCALI-KULU (KONYA)</td>\n",
       "      <td>38.9038</td>\n",
       "      <td>32.9623</td>\n",
       "    </tr>\n",
       "    <tr>\n",
       "      <th>1</th>\n",
       "      <td>5.0</td>\n",
       "      <td>SEYITUSAGI-YESILYURT (MALATYA)</td>\n",
       "      <td>38.2652</td>\n",
       "      <td>38.2040</td>\n",
       "    </tr>\n",
       "    <tr>\n",
       "      <th>2</th>\n",
       "      <td>4.8</td>\n",
       "      <td>KIRKISRAK-SARIZ (KAYSERI)</td>\n",
       "      <td>38.4567</td>\n",
       "      <td>36.6812</td>\n",
       "    </tr>\n",
       "    <tr>\n",
       "      <th>3</th>\n",
       "      <td>4.6</td>\n",
       "      <td>YETIMLI-ALADAG (ADANA)</td>\n",
       "      <td>37.6587</td>\n",
       "      <td>35.3930</td>\n",
       "    </tr>\n",
       "    <tr>\n",
       "      <th>4</th>\n",
       "      <td>4.9</td>\n",
       "      <td>IKIZCE-YESILYURT (MALATYA)</td>\n",
       "      <td>38.2955</td>\n",
       "      <td>38.1770</td>\n",
       "    </tr>\n",
       "  </tbody>\n",
       "</table>\n",
       "</div>"
      ],
      "text/plain": [
       "    ML                              Yer    Enlem   Boylam\n",
       "0  5.1         TAVSANCALI-KULU (KONYA)   38.9038  32.9623\n",
       "1  5.0  SEYITUSAGI-YESILYURT (MALATYA)   38.2652  38.2040\n",
       "2  4.8       KIRKISRAK-SARIZ (KAYSERI)   38.4567  36.6812\n",
       "3  4.6          YETIMLI-ALADAG (ADANA)   37.6587  35.3930\n",
       "4  4.9      IKIZCE-YESILYURT (MALATYA)   38.2955  38.1770"
      ]
     },
     "execution_count": 15,
     "metadata": {},
     "output_type": "execute_result"
    }
   ],
   "source": [
    "mlyerVeri.head()"
   ]
  },
  {
   "cell_type": "code",
   "execution_count": 16,
   "id": "ebbda0f2",
   "metadata": {},
   "outputs": [
    {
     "name": "stdout",
     "output_type": "stream",
     "text": [
      "Requirement already satisfied: folium in c:\\users\\lenovo\\appdata\\local\\programs\\python\\python39\\lib\\site-packages (0.14.0)\n",
      "Requirement already satisfied: jinja2>=2.9 in c:\\users\\lenovo\\appdata\\local\\programs\\python\\python39\\lib\\site-packages (from folium) (3.1.1)\n",
      "Requirement already satisfied: numpy in c:\\users\\lenovo\\appdata\\local\\programs\\python\\python39\\lib\\site-packages (from folium) (1.19.5)\n",
      "Requirement already satisfied: branca>=0.6.0 in c:\\users\\lenovo\\appdata\\local\\programs\\python\\python39\\lib\\site-packages (from folium) (0.6.0)\n",
      "Requirement already satisfied: requests in c:\\users\\lenovo\\appdata\\local\\programs\\python\\python39\\lib\\site-packages (from folium) (2.28.1)\n",
      "Requirement already satisfied: MarkupSafe>=2.0 in c:\\users\\lenovo\\appdata\\local\\programs\\python\\python39\\lib\\site-packages (from jinja2>=2.9->folium) (2.0.1)\n",
      "Requirement already satisfied: certifi>=2017.4.17 in c:\\users\\lenovo\\appdata\\local\\programs\\python\\python39\\lib\\site-packages (from requests->folium) (2021.5.30)\n",
      "Requirement already satisfied: charset-normalizer<3,>=2 in c:\\users\\lenovo\\appdata\\local\\programs\\python\\python39\\lib\\site-packages (from requests->folium) (2.0.4)\n",
      "Requirement already satisfied: idna<4,>=2.5 in c:\\users\\lenovo\\appdata\\local\\programs\\python\\python39\\lib\\site-packages (from requests->folium) (3.2)\n",
      "Requirement already satisfied: urllib3<1.27,>=1.21.1 in c:\\users\\lenovo\\appdata\\local\\programs\\python\\python39\\lib\\site-packages (from requests->folium) (1.26.6)\n"
     ]
    },
    {
     "name": "stderr",
     "output_type": "stream",
     "text": [
      "\n",
      "[notice] A new release of pip available: 22.3 -> 23.3.1\n",
      "[notice] To update, run: python.exe -m pip install --upgrade pip\n"
     ]
    }
   ],
   "source": [
    "get_ipython().system('pip install folium')"
   ]
  },
  {
   "cell_type": "code",
   "execution_count": 17,
   "id": "fa880f71",
   "metadata": {},
   "outputs": [],
   "source": [
    "import streamlit as st\n",
    "from streamlit_folium import st_folium\n",
    "import folium"
   ]
  },
  {
   "cell_type": "code",
   "execution_count": 35,
   "id": "e792c79b",
   "metadata": {},
   "outputs": [],
   "source": [
    "m = folium.Map(\n",
    "    location=[37.9038, 35.9623],\n",
    "    zoom_start=6)\n",
    "\n",
    "for i in range(len(mlyerVeri)):\n",
    "    folium.Marker([float(mlyerVeri[\"Enlem\"][i]), float(mlyerVeri[\"Boylam\"][i])]).add_to(m)\n",
    "    '''folium.CircleMarker(\n",
    "    location=[float(mlyerVeri[\"Enlem\"][i]), float(mlyerVeri[\"Boylam\"][i])],\n",
    "    radius=50,\n",
    "    color='#3186cc',\n",
    "    fill=True,\n",
    "    fill_color='#3186cc').add_to(m)\n",
    "    '''\n",
    "    \n",
    "\n",
    "m.save('/map.html')"
   ]
  },
  {
   "cell_type": "code",
   "execution_count": 36,
   "id": "386df282",
   "metadata": {},
   "outputs": [],
   "source": [
    "from IPython.display import IFrame"
   ]
  },
  {
   "cell_type": "code",
   "execution_count": 38,
   "id": "f7fc147c",
   "metadata": {},
   "outputs": [],
   "source": [
    "#IFrame(src='http://localhost:8888/view/map.html', width=900, height=600)"
   ]
  },
  {
   "cell_type": "markdown",
   "id": "e2c2fd90",
   "metadata": {},
   "source": [
    "![image](map.png)"
   ]
  }
 ],
 "metadata": {
  "kernelspec": {
   "display_name": "Python 3 (ipykernel)",
   "language": "python",
   "name": "python3"
  },
  "language_info": {
   "codemirror_mode": {
    "name": "ipython",
    "version": 3
   },
   "file_extension": ".py",
   "mimetype": "text/x-python",
   "name": "python",
   "nbconvert_exporter": "python",
   "pygments_lexer": "ipython3",
   "version": "3.9.6"
  }
 },
 "nbformat": 4,
 "nbformat_minor": 5
}
